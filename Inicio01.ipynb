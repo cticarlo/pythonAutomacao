{
  "nbformat": 4,
  "nbformat_minor": 0,
  "metadata": {
    "colab": {
      "name": "Inicio01.ipynb",
      "provenance": [],
      "collapsed_sections": []
    },
    "kernelspec": {
      "name": "python3",
      "display_name": "Python 3"
    }
  },
  "cells": [
    {
      "cell_type": "code",
      "metadata": {
        "id": "QMJn77pfWLYk"
      },
      "source": [
        "print(\"Olá, mundo!!!\")"
      ],
      "execution_count": null,
      "outputs": []
    },
    {
      "cell_type": "code",
      "metadata": {
        "id": "JPYug5YaXaf2"
      },
      "source": [
        "texto = 'Olá, mundo!!!'"
      ],
      "execution_count": null,
      "outputs": []
    },
    {
      "cell_type": "code",
      "metadata": {
        "id": "jzZB5pUXX0uZ"
      },
      "source": [
        "print (texto)"
      ],
      "execution_count": null,
      "outputs": []
    },
    {
      "cell_type": "code",
      "metadata": {
        "id": "To9chY7cXio2"
      },
      "source": [
        "type(texto)"
      ],
      "execution_count": null,
      "outputs": []
    },
    {
      "cell_type": "code",
      "metadata": {
        "id": "F57i0r4EXoCD"
      },
      "source": [
        "texto = \"Hi, mundo!\""
      ],
      "execution_count": null,
      "outputs": []
    },
    {
      "cell_type": "code",
      "metadata": {
        "id": "cUqgC9gXYYd8"
      },
      "source": [
        "print (texto)"
      ],
      "execution_count": null,
      "outputs": []
    },
    {
      "cell_type": "code",
      "metadata": {
        "id": "ZwvQzMJHbWFw"
      },
      "source": [
        "nome = input(\"Qual é o seu nome? \")\n",
        "print (\"Olá, {}. Bem vindo ao Python!!!\".format(nome))"
      ],
      "execution_count": null,
      "outputs": []
    },
    {
      "cell_type": "code",
      "metadata": {
        "id": "H4J-UoZHA5qN"
      },
      "source": [
        "l_in = float(input(\"Entre com a medida em polegadas(in): \"))\n",
        "\n",
        "l_cm = l_in * 2.54 # Relação entre centímetros e polegadas\n",
        "\n",
        "print (\"{}in corresponde a {}cm.\".format(l_in, l_cm))"
      ],
      "execution_count": null,
      "outputs": []
    },
    {
      "cell_type": "code",
      "metadata": {
        "id": "fng8M0AWbg6z"
      },
      "source": [
        "s=\"Keep Calm and Python!\"\n",
        "print(len(s))\n",
        "print(min(s))\n",
        "print(max(s))\n",
        "print(s.index(\"C\")) # Maiúsculas e minúsculas são caracteres diferentes\n",
        "print(s.count ('a'))\n",
        "print(s.lower())\n",
        "print(s.upper())\n",
        "print(s.title()) # Aqui só o a de and muda\n",
        "print(s.split(' ')) # Cria uma lista das palavras\n"
      ],
      "execution_count": null,
      "outputs": []
    },
    {
      "cell_type": "code",
      "metadata": {
        "id": "P2RewvYOr6YW"
      },
      "source": [
        "print(s[0:5])  # Um slice de 5 caracteres, do 1o(0) ao 5o(4)\n",
        "print(s[7]) # O caractere da posição 7. Pode contar!\n",
        "print(s[0]) # O primeiro caractere\n",
        "print(s[-1]) # O último caractere (contado do final)\n"
      ],
      "execution_count": null,
      "outputs": []
    },
    {
      "cell_type": "code",
      "metadata": {
        "id": "UoP--zsE0ckV"
      },
      "source": [
        "b = \"Ah!\"\n",
        "g = ' Staying alive!'\n",
        "print(b*4) # De volta aos anos 70\n",
        "r = b*4 + g*2  # Homenagem aos Bee Gees! :D\n",
        "print (r)"
      ],
      "execution_count": null,
      "outputs": []
    },
    {
      "cell_type": "code",
      "metadata": {
        "id": "tNGLvupvsIaa"
      },
      "source": [
        "print(s[22]) # Deu erro! Não há tantos caracteres"
      ],
      "execution_count": null,
      "outputs": []
    }
  ]
}