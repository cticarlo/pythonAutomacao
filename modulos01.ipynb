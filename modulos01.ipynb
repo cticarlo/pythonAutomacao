{
  "nbformat": 4,
  "nbformat_minor": 0,
  "metadata": {
    "colab": {
      "name": "modulos01.ipynb",
      "provenance": []
    },
    "kernelspec": {
      "name": "python3",
      "display_name": "Python 3"
    }
  },
  "cells": [
    {
      "cell_type": "code",
      "metadata": {
        "id": "trRZr3CW6i9m"
      },
      "source": [
        "def eq2Grau (a2, a1, a0, x):\n",
        "  y = a2*x**2 + a1*x + a0\n",
        "  return y\n"
      ],
      "execution_count": 1,
      "outputs": []
    },
    {
      "cell_type": "code",
      "metadata": {
        "id": "SD66WXPZ_2W1"
      },
      "source": [
        "import numpy as np\n",
        "import matplotlib.pyplot as plt\n",
        "\n",
        "x = np.linspace(-10,10, 101) # Cria um array de abcissas\n",
        "\n",
        "y1 = eq2Grau (1, -4.2, 18, x) # Obtém as ordenadas da equação 1\n",
        "y2 = eq2Grau (-2, 18.4, -7, x) # Obtém as ordenadas da equação 2"
      ],
      "execution_count": 7,
      "outputs": []
    },
    {
      "cell_type": "code",
      "metadata": {
        "id": "9s0oqIrCApzR"
      },
      "source": [
        "fig = plt.figure()\n",
        "plt.grid()                      # Cria grade\n",
        "plt.axhline(0,color='darkgray') # Cria eixo horizontal\n",
        "plt.axvline(0,color='darkgray') # Cria eixo vertical\n",
        "\n",
        "plt.plot (x, y1, 'r')   # Traça a primeira equação\n",
        "plt.plot (x, y2, 'g--') # Traça a segunda equação\n",
        "plt.show()"
      ],
      "execution_count": null,
      "outputs": []
    },
    {
      "cell_type": "code",
      "metadata": {
        "id": "Zj1BVipzFlbH"
      },
      "source": [
        "def calcularRaizes(a2, a1, a0):\n",
        "    if a2 == 0:\n",
        "        print (\"É uma equação de primeiro grau\")\n",
        "        return (-a0/a1, None)\n",
        "    else:\n",
        "      print (\"É uma equação de 2o grau\")"
      ],
      "execution_count": 3,
      "outputs": []
    },
    {
      "cell_type": "code",
      "metadata": {
        "id": "SpIQetCwGGxf"
      },
      "source": [
        "calcularRaizes(0, -5, 3)"
      ],
      "execution_count": null,
      "outputs": []
    },
    {
      "cell_type": "code",
      "metadata": {
        "id": "OCVhOUfnGcWF"
      },
      "source": [
        "calcularRaizes(1, -5, 3)"
      ],
      "execution_count": null,
      "outputs": []
    },
    {
      "cell_type": "code",
      "metadata": {
        "id": "5mfuk4G4KJvG"
      },
      "source": [
        "def calcularRaizes(a2, a1, a0):\n",
        "    if a2 == 0:\n",
        "        return (-a0/a1, None)\n",
        "    else:\n",
        "        delta = a1**2 - 4*a2*a0\n",
        "        if delta == 0:\n",
        "            x = -a1/(2*a2)\n",
        "            return (x, x)\n",
        "        else:\n",
        "            x1 = (-a1 + delta**0.5) / (2*a2)\n",
        "            x2 = (-a1 - delta**0.5) / (2*a2)\n",
        "            return (x1, x2)"
      ],
      "execution_count": 10,
      "outputs": []
    },
    {
      "cell_type": "code",
      "metadata": {
        "id": "BOs1xDnHK8GP"
      },
      "source": [
        "calcularRaizes(0, -5, 3)"
      ],
      "execution_count": null,
      "outputs": []
    },
    {
      "cell_type": "code",
      "metadata": {
        "id": "5AwylE8BLFYG"
      },
      "source": [
        "calcularRaizes(1, -5, 3)"
      ],
      "execution_count": null,
      "outputs": []
    },
    {
      "cell_type": "code",
      "metadata": {
        "id": "G3R_ZQjoOINV"
      },
      "source": [
        "def ehZero(x, tolerancia=1e-6):\n",
        "  \"\"\" Recebe um valor e uma tolerância (por padrão, 1x10^-6)\n",
        "      Retorna True se o absoluto de x for menor que essa tolerância\n",
        "      O que significa que dá para considerá-lo igual a zero\n",
        "  \"\"\"\n",
        "  return abs(x) < tolerancia"
      ],
      "execution_count": 14,
      "outputs": []
    },
    {
      "cell_type": "code",
      "metadata": {
        "id": "g_egpphMOt1I"
      },
      "source": [
        "def calcularRaizes(a2, a1, a0):\n",
        "    if ehZero(a2):\n",
        "        return (-a0/a1, None)\n",
        "    else:\n",
        "        delta = a1**2 - 4*a2*a0\n",
        "        if ehZero(delta):\n",
        "            x = -a1/(2*a2)\n",
        "            return (x, x)\n",
        "        else:\n",
        "            x1 = (-a1 + delta**0.5) / (2*a2)\n",
        "            x2 = (-a1 - delta**0.5) / (2*a2)\n",
        "            return (x1, x2)"
      ],
      "execution_count": 15,
      "outputs": []
    },
    {
      "cell_type": "code",
      "metadata": {
        "colab": {
          "base_uri": "https://localhost:8080/"
        },
        "id": "A8IGoN67O7aG",
        "outputId": "5c601de0-50f3-4737-e829-10f861a25c6e"
      },
      "source": [
        "calcularRaizes(0, -5, 3)"
      ],
      "execution_count": 16,
      "outputs": [
        {
          "output_type": "execute_result",
          "data": {
            "text/plain": [
              "(0.6, None)"
            ]
          },
          "metadata": {
            "tags": []
          },
          "execution_count": 16
        }
      ]
    },
    {
      "cell_type": "code",
      "metadata": {
        "colab": {
          "base_uri": "https://localhost:8080/"
        },
        "id": "SfX678jkO7aJ",
        "outputId": "7d1cd4d4-d0c6-4bbc-d18a-5d9eb5da78eb"
      },
      "source": [
        "calcularRaizes(1, -5, 3)"
      ],
      "execution_count": 17,
      "outputs": [
        {
          "output_type": "execute_result",
          "data": {
            "text/plain": [
              "(4.302775637731995, 0.6972243622680054)"
            ]
          },
          "metadata": {
            "tags": []
          },
          "execution_count": 17
        }
      ]
    },
    {
      "cell_type": "code",
      "metadata": {
        "id": "lVcqQ0VBa9_W"
      },
      "source": [
        "a, b, c = lerCoeficientes()\n",
        "\n",
        "x1, x2  = calcularRaizes(a, b, c)\n",
        "\n",
        "apresentarResultados(x1, x2)\n"
      ],
      "execution_count": null,
      "outputs": []
    },
    {
      "cell_type": "code",
      "metadata": {
        "id": "lAhyK6WmbN60"
      },
      "source": [
        "def apresentarResultados (x1, x2):\n",
        "    if x2 is None: #Equacao de 1º grau\n",
        "        print (\"\\n\\nA equação é de 1º grau.\")\n",
        "        print (f\"Sua única raiz é igual a {x1}.\")\n",
        "    else:\n",
        "        print (\"A equação é de 2º grau.\")\n",
        "        if x1 == x2:\n",
        "            print (f\"Ela tem 2 raizes reais iguais a {x1:2f}\")\n",
        "        elif isinstance(x1,float):\n",
        "            print (f\"Ela tem 2 raizes reais diferentes: {x1:.2f} e {x2:.2f}\")\n",
        "        else:\n",
        "            print (f\"Ela tem 2 raizes complexas: {x1:.2f} e {x2:.2f}\")\n"
      ],
      "execution_count": 19,
      "outputs": []
    },
    {
      "cell_type": "code",
      "metadata": {
        "id": "_C5hYnXYbvj_"
      },
      "source": [
        "def lerCoeficientes():\n",
        "    print(\"Resolução de equações de 2o grau\")\n",
        "    print(\"--------------------------------\\n\") \n",
        "    print(\"Para a equação ax² + bx + c = 0, forneça:\")\n",
        "    huguinho = float(input (\"Coeficiente a: \"))\n",
        "    zezinho  = float(input (\"Coeficiente b: \"))\n",
        "    luisinho = float(input (\"Coeficiente c: \"))\n",
        "    return (huguinho, zezinho, luisinho)"
      ],
      "execution_count": 18,
      "outputs": []
    }
  ]
}