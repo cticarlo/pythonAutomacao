{
  "nbformat": 4,
  "nbformat_minor": 0,
  "metadata": {
    "colab": {
      "name": "scripts01.ipynb",
      "provenance": []
    },
    "kernelspec": {
      "name": "python3",
      "display_name": "Python 3"
    }
  },
  "cells": [
    {
      "cell_type": "code",
      "metadata": {
        "id": "uXF2Bn4RACqj"
      },
      "source": [
        "#!/usr/bin/env python3\n",
        "# -*- coding: utf-8 -*-\n",
        "\"\"\"\n",
        "Criado em 14/3/2021 16:50\n",
        "@author: Carlos R Rocha\n",
        "\"\"\"\n",
        "print (\"Olá, mundo!\")"
      ],
      "execution_count": null,
      "outputs": []
    },
    {
      "cell_type": "code",
      "metadata": {
        "id": "TRnm6kdIrDjn"
      },
      "source": [
        "graus = float(input(\"Ângulo em graus: \"))\n",
        "\n",
        "radianos = graus * 3.14159265 / 180.0 # Relação entre graus e radianos\n",
        "\n",
        "print (f\"{graus} corresponde a {radianos}.\")"
      ],
      "execution_count": null,
      "outputs": []
    },
    {
      "cell_type": "code",
      "metadata": {
        "id": "jTpCtM5qreXs"
      },
      "source": [
        "from math import radians\n",
        "\n",
        "graus = float(input(\"Ângulo em graus: \"))\n",
        "radianos = radians(graus)\n",
        "\n",
        "msg = f\"{graus} corresponde a {radianos}.\"\n",
        "print (msg)"
      ],
      "execution_count": null,
      "outputs": []
    }
  ]
}