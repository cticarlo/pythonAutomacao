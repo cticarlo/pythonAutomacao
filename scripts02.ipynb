{
  "nbformat": 4,
  "nbformat_minor": 0,
  "metadata": {
    "colab": {
      "name": "scripts02.ipynb",
      "provenance": []
    },
    "kernelspec": {
      "name": "python3",
      "display_name": "Python 3"
    }
  },
  "cells": [
    {
      "cell_type": "code",
      "metadata": {
        "id": "ers0vbnzwOA_"
      },
      "source": [
        "tensao = float (input('Forneça o valor da tensão(V): '))\n",
        "freq = float (input('Forneça a frequência da rede(Hz): '))"
      ],
      "execution_count": null,
      "outputs": []
    },
    {
      "cell_type": "code",
      "metadata": {
        "id": "x_q2wbBRzrqc"
      },
      "source": [
        "import numpy as np\n",
        "\n",
        "t = np.linspace(0, 1/freq, 361)"
      ],
      "execution_count": 3,
      "outputs": []
    },
    {
      "cell_type": "code",
      "metadata": {
        "id": "H-D-bNXozybk"
      },
      "source": [
        "print (f\"São {len(t)} valores em no array t.\\n\")\n",
        "print (t)"
      ],
      "execution_count": null,
      "outputs": []
    },
    {
      "cell_type": "code",
      "metadata": {
        "id": "sZGT0T2L0Y9A"
      },
      "source": [
        "ang = np.linspace(0, 2*np.pi, 361)\n",
        "v = tensao * np.sin(ang)"
      ],
      "execution_count": 8,
      "outputs": []
    },
    {
      "cell_type": "code",
      "metadata": {
        "id": "p5rnAumF0cN0"
      },
      "source": [
        "print(v)"
      ],
      "execution_count": null,
      "outputs": []
    },
    {
      "cell_type": "code",
      "metadata": {
        "id": "tA7xNw3-0p8q"
      },
      "source": [
        "import matplotlib.pyplot as plt\n",
        "\n",
        "fig = plt.figure()\n",
        "\n",
        "plt.plot (t, v)\n",
        "\n",
        "plt.show()"
      ],
      "execution_count": null,
      "outputs": []
    }
  ]
}